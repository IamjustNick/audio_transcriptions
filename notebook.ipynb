{
 "cells": [
  {
   "cell_type": "code",
   "execution_count": 5,
   "metadata": {},
   "outputs": [],
   "source": [
    "import requests\n",
    "import os\n",
    "from dotenv import load_dotenv\n",
    "\n",
    "load_dotenv()\n",
    "\n",
    "AZURE_OPENAI_ENDPOINT = os.getenv(\"AZURE_OPENAI_ENDPOINT\")\n",
    "AZURE_OPENAI_KEY = os.getenv(\"AZURE_OPENAI_KEY\")\n",
    "API_VERSION = os.getenv(\"API_VERSION\")\n",
    "\n",
    "def transcribe_audio_to_text(audio_file_path, save_path=None):\n",
    "\n",
    "\n",
    "    headers = {\n",
    "        \"api-key\": AZURE_OPENAI_KEY\n",
    "    }\n",
    "    files = {\n",
    "        \"file\": open(audio_file_path, \"rb\")\n",
    "    }\n",
    "    params = {\n",
    "        \"api-version\": API_VERSION,\n",
    "        \"language\": \"es\",\n",
    "        \"prompt\": \"You are going to be provided audio of interviews in Spanish, help transcribe them returning the text in Spanish\",\n",
    "        \"temperature\":0\n",
    "    }\n",
    "\n",
    "    response = requests.post(AZURE_OPENAI_ENDPOINT, headers=headers, files=files, params=params)\n",
    "\n",
    "    files[\"file\"].close()\n",
    "\n",
    "    if response.status_code == 200:\n",
    "        transcription = response.json().get('text')\n",
    "        if transcription:\n",
    "            save_path = save_path or os.path.splitext(audio_file_path)[0] + '.txt'\n",
    "            with open(save_path, 'w') as text_file:\n",
    "                text_file.write(transcription)\n",
    "            print(f\"Transcription saved to {save_path}\")\n",
    "        else:\n",
    "            print(\"Transcription received but was empty.\")\n",
    "    else:\n",
    "        print(\"Error:\", response.status_code, response.text)\n"
   ]
  },
  {
   "cell_type": "code",
   "execution_count": 8,
   "metadata": {},
   "outputs": [],
   "source": [
    "from pydub import AudioSegment\n",
    "import os\n",
    "\n",
    "def convert_media_to_mp3(directory):\n",
    "    \"\"\"\n",
    "    Converts all .m4a and .mp4 files in the specified directory to .mp3 format and saves them in a subdirectory named 'mp3'.\n",
    "\n",
    "    Parameters:\n",
    "    directory (str): The path to the directory containing .m4a and .mp4 files.\n",
    "    \"\"\"\n",
    "    mp3_directory = os.path.join(directory, 'mp3')\n",
    "\n",
    "    #\n",
    "    if not os.path.exists(mp3_directory):\n",
    "        os.makedirs(mp3_directory)\n",
    "\n",
    "    for filename in os.listdir(directory):\n",
    "        if filename.endswith('.m4a') or filename.endswith('.mp4'):\n",
    "            file_path = os.path.join(directory, filename)\n",
    "            mp3_filename = os.path.splitext(filename)[0] + '.mp3'\n",
    "            mp3_path = os.path.join(mp3_directory, mp3_filename)\n",
    "\n",
    "\n",
    "            audio = AudioSegment.from_file(file_path, format=\"mp4\" if filename.endswith('.mp4') else \"m4a\")\n",
    "            audio.export(mp3_path, format=\"mp3\")\n",
    "            print(f\"Converted {filename} to MP3 and saved in 'mp3' subdirectory\")"
   ]
  },
  {
   "cell_type": "code",
   "execution_count": 9,
   "metadata": {},
   "outputs": [
    {
     "name": "stdout",
     "output_type": "stream",
     "text": [
      "Converted 01.MFY (GIJÓN EDP COORDIS 17112023).mp4 to MP3 and saved in 'mp3' subdirectory\n",
      "Converted 04.MFY (BCN Volotea coordis 01122023).m4a to MP3 and saved in 'mp3' subdirectory\n",
      "Converted 05.MFY (EMU LEROY MERLIN AGENTES 21112023).m4a to MP3 and saved in 'mp3' subdirectory\n",
      "Converted 02.MFY (BCN DANONE Agentes 01122023).m4a to MP3 and saved in 'mp3' subdirectory\n",
      "Converted 06.MFY (OM IB SUPER+COORDI 22112023).m4a to MP3 and saved in 'mp3' subdirectory\n",
      "Converted 14.MFY (VIGO IB, Ocaso, Naturgy, Mutua COORDIS 12122023).m4a to MP3 and saved in 'mp3' subdirectory\n",
      "Converted 15.MFY (VIGO IbVentas + Naturgy Agentes 12122024).m4a to MP3 and saved in 'mp3' subdirectory\n",
      "Converted 12.MFY (SANRO Carrefour agentes 23112023).m4a to MP3 and saved in 'mp3' subdirectory\n",
      "Converted 03.MFY (BCN VOLOTEA AGENTES 01122023).m4a to MP3 and saved in 'mp3' subdirectory\n",
      "Converted 11.MFY (OM ZARA AGENTES 22112023).m4a to MP3 and saved in 'mp3' subdirectory\n",
      "Converted 09.MFY (OM SANTANDER AGENTES NUEVOS 21112023).m4a to MP3 and saved in 'mp3' subdirectory\n",
      "Converted 18.MFY (VIGO Ocaso, Mutua, Sabadell AGENTES 12122023).m4a to MP3 and saved in 'mp3' subdirectory\n",
      "Converted 07.MFY (OM IBERDOLA AGENTES 22112023).m4a to MP3 and saved in 'mp3' subdirectory\n",
      "Converted 17.MFY (VIGO ING COORDIS 12122023).m4a to MP3 and saved in 'mp3' subdirectory\n",
      "Converted 08.MFY (OM Iberdrola AGENTES 23112023).m4a to MP3 and saved in 'mp3' subdirectory\n",
      "Converted 10.MFY (OM Santander coordinadores 21122023).m4a to MP3 and saved in 'mp3' subdirectory\n",
      "Converted 16.MFY (VIGO ING AGENTES 12122023).m4a to MP3 and saved in 'mp3' subdirectory\n"
     ]
    }
   ],
   "source": [
    "convert_media_to_mp3(\"/Users/nicolasmartinez-geijovila/code/IamjustNick/intelcia/audio_transcriptions/data/audio\")"
   ]
  },
  {
   "cell_type": "code",
   "execution_count": 4,
   "metadata": {},
   "outputs": [],
   "source": [
    "from pydub import AudioSegment\n",
    "import os\n",
    "\n",
    "def cut_large_mp3_files(directory):\n",
    "    \"\"\"\n",
    "    Cuts .mp3 files larger than 25 MB in the specified directory into two halves.\n",
    "\n",
    "    Parameters:\n",
    "    directory (str): The path to the directory containing .mp3 files.\n",
    "    \"\"\"\n",
    "    for filename in os.listdir(directory):\n",
    "        if filename.endswith('.mp3'):\n",
    "            file_path = os.path.join(directory, filename)\n",
    "            file_size = os.path.getsize(file_path) / (1024 * 1024)  # size in MB\n",
    "\n",
    "            if file_size > 25:\n",
    "                audio = AudioSegment.from_file(file_path)\n",
    "\n",
    "                half_way_point = len(audio) // 2\n",
    "                audio_part1 = audio[:half_way_point]\n",
    "                audio_part2 = audio[half_way_point:]\n",
    "\n",
    "                base_filename = filename.replace('.mp3', '')\n",
    "                audio_part1.export(os.path.join(directory, f\"{base_filename} 1.mp3\"), format=\"mp3\")\n",
    "                audio_part2.export(os.path.join(directory, f\"{base_filename} 2.mp3\"), format=\"mp3\")\n",
    "\n",
    "                print(f\"Processed {filename}\")\n"
   ]
  },
  {
   "cell_type": "code",
   "execution_count": 5,
   "metadata": {},
   "outputs": [
    {
     "name": "stdout",
     "output_type": "stream",
     "text": [
      "Processed 16.MFY (VIGO ING AGENTES 12122023).mp3\n",
      "Processed 07.MFY (OM IBERDOLA AGENTES 22112023).mp3\n",
      "Processed 10.MFY (OM Santander coordinadores 21122023).mp3\n",
      "Processed 18.MFY (VIGO Ocaso, Mutua, Sabadell AGENTES 12122023).mp3\n",
      "Processed 15.MFY (VIGO IbVentas + Naturgy Agentes 12122024).mp3\n",
      "Processed 12.MFY (SANRO Carrefour agentes 23112023).mp3\n",
      "Processed 02.MFY (BCN DANONE Agentes 01122023).mp3\n",
      "Processed 14.MFY (VIGO IB, Ocaso, Naturgy, Mutua COORDIS 12122023).mp3\n",
      "Processed 06.MFY (OM IB SUPER+COORDI 22112023).mp3\n",
      "Processed 05.MFY (EMU LEROY MERLIN AGENTES 21112023).mp3\n"
     ]
    }
   ],
   "source": [
    "cut_large_mp3_files(\"/Users/nicolasmartinez-geijovila/code/IamjustNick/intelcia/audio_transcriptions/data/audio\")"
   ]
  },
  {
   "cell_type": "code",
   "execution_count": 12,
   "metadata": {},
   "outputs": [],
   "source": [
    "from pydub import AudioSegment\n",
    "import os\n",
    "\n",
    "def process_and_cleanup_mp3_files(directory):\n",
    "    \"\"\"\n",
    "    Processes .mp3 files larger than 25 MB by cutting them into two halves and deletes the original file.\n",
    "\n",
    "    Parameters:\n",
    "    directory (str): The path to the directory containing .mp3 files.\n",
    "    \"\"\"\n",
    "    for filename in os.listdir(directory):\n",
    "        if filename.endswith('.mp3'):\n",
    "            file_path = os.path.join(directory, filename)\n",
    "            file_size = os.path.getsize(file_path) / (1024 * 1024)  # size in MB\n",
    "\n",
    "            if file_size > 24:\n",
    "                audio = AudioSegment.from_file(file_path)\n",
    "\n",
    "                half_way_point = len(audio) // 2\n",
    "                audio_part1 = audio[:half_way_point]\n",
    "                audio_part2 = audio[half_way_point:]\n",
    "\n",
    "                base_filename = filename.replace('.mp3', '')\n",
    "                audio_part1.export(os.path.join(directory, f\"{base_filename} 1.mp3\"), format=\"mp3\")\n",
    "                audio_part2.export(os.path.join(directory, f\"{base_filename} 2.mp3\"), format=\"mp3\")\n",
    "\n",
    "                os.remove(file_path)\n",
    "\n",
    "                print(f\"Processed and deleted {filename}\")\n"
   ]
  },
  {
   "cell_type": "code",
   "execution_count": 13,
   "metadata": {},
   "outputs": [
    {
     "name": "stdout",
     "output_type": "stream",
     "text": [
      "Processed and deleted 07.MFY (OM IBERDOLA AGENTES 22112023).mp3\n",
      "Processed and deleted 10.MFY (OM Santander coordinadores 21122023).mp3\n",
      "Processed and deleted 18.MFY (VIGO Ocaso, Mutua, Sabadell AGENTES 12122023).mp3\n",
      "Processed and deleted 15.MFY (VIGO IbVentas + Naturgy Agentes 12122024).mp3\n",
      "Processed and deleted 12.MFY (SANRO Carrefour agentes 23112023).mp3\n",
      "Processed and deleted 03.MFY (BCN VOLOTEA AGENTES 01122023).mp3\n",
      "Processed and deleted 02.MFY (BCN DANONE Agentes 01122023).mp3\n",
      "Processed and deleted 14.MFY (VIGO IB, Ocaso, Naturgy, Mutua COORDIS 12122023).mp3\n",
      "Processed and deleted 06.MFY (OM IB SUPER+COORDI 22112023).mp3\n",
      "Processed and deleted 05.MFY (EMU LEROY MERLIN AGENTES 21112023).mp3\n"
     ]
    }
   ],
   "source": [
    "process_and_cleanup_mp3_files(\"/Users/nicolasmartinez-geijovila/code/IamjustNick/intelcia/audio_transcriptions/data/audio/mp3\")"
   ]
  },
  {
   "cell_type": "code",
   "execution_count": 6,
   "metadata": {},
   "outputs": [
    {
     "name": "stdout",
     "output_type": "stream",
     "text": [
      "Transcription saved to /Users/nicolasmartinez-geijovila/code/IamjustNick/intelcia/audio_transcriptions/data/audio/mp3/01.MFY (GIJÓN EDP COORDIS 17112023).txt\n"
     ]
    }
   ],
   "source": [
    "import requests\n",
    "import os\n",
    "from dotenv import load_dotenv\n",
    "\n",
    "load_dotenv()\n",
    "\n",
    "AZURE_OPENAI_ENDPOINT = os.getenv(\"AZURE_OPENAI_ENDPOINT\")\n",
    "AZURE_OPENAI_KEY = os.getenv(\"AZURE_OPENAI_KEY\")\n",
    "API_VERSION = os.getenv(\"API_VERSION\")\n",
    "\n",
    "def transcribe_audio_to_text(audio_file_path, save_path=None):\n",
    "\n",
    "\n",
    "\n",
    "    headers = {\n",
    "        \"api-key\": AZURE_OPENAI_KEY\n",
    "    }\n",
    "    files = {\n",
    "        \"file\": open(audio_file_path, \"rb\")\n",
    "    }\n",
    "    params = {\n",
    "        \"api-version\": API_VERSION,\n",
    "        \"language\": \"es\",\n",
    "        \"prompt\": \"You are going to be provided audio of interviews in Spanish, help transcribe them returning the text in Spanish\",\n",
    "        \"temperature\":0\n",
    "    }\n",
    "\n",
    "\n",
    "    response = requests.post(AZURE_OPENAI_ENDPOINT, headers=headers, files=files, params=params)\n",
    "\n",
    "\n",
    "    files[\"file\"].close()\n",
    "\n",
    "\n",
    "    if response.status_code == 200:\n",
    "        transcription = response.json().get('text')\n",
    "        if transcription:\n",
    "            # Save the transcription\n",
    "            save_path = save_path or os.path.splitext(audio_file_path)[0] + '.txt'\n",
    "            with open(save_path, 'w') as text_file:\n",
    "                text_file.write(transcription)\n",
    "            print(f\"Transcription saved to {save_path}\")\n",
    "        else:\n",
    "            print(\"Transcription received but was empty.\")\n",
    "    else:\n",
    "        print(\"Error:\", response.status_code, response.text)\n",
    "\n",
    "transcribe_audio_to_text(\"/Users/nicolasmartinez-geijovila/code/IamjustNick/intelcia/audio_transcriptions/data/audio/mp3/01.MFY (GIJÓN EDP COORDIS 17112023).mp3\")\n"
   ]
  },
  {
   "cell_type": "code",
   "execution_count": 3,
   "metadata": {},
   "outputs": [],
   "source": [
    "import time\n",
    "\n",
    "def transcribe_all_mp3_in_directory(directory, retry_delay=60, max_retries=3):\n",
    "    \"\"\"\n",
    "    Processes all .mp3 files in the specified directory for transcription, skipping files already transcribed.\n",
    "\n",
    "    Parameters:\n",
    "    directory (str): The path to the directory containing .mp3 files.\n",
    "    retry_delay (int): Time in seconds to wait before retrying after a 503 error.\n",
    "    max_retries (int): Maximum number of retries for each file in case of 503 errors.\n",
    "    \"\"\"\n",
    "    for filename in os.listdir(directory):\n",
    "        if filename.endswith('.mp3'):\n",
    "            audio_file_path = os.path.join(directory, filename)\n",
    "            transcription_save_path = os.path.splitext(audio_file_path)[0] + '.txt'\n",
    "\n",
    "\n",
    "            if os.path.exists(transcription_save_path):\n",
    "                print(f\"Skipping {filename}, transcription already exists.\")\n",
    "                continue\n",
    "\n",
    "\n",
    "            retries = 0\n",
    "            while retries < max_retries:\n",
    "                try:\n",
    "                    transcribe_audio_to_text(audio_file_path, save_path=transcription_save_path)\n",
    "                    break  # Break the loop if transcription is successful\n",
    "                except requests.exceptions.HTTPError as e:\n",
    "                    if e.response.status_code == 503:\n",
    "                        print(f\"503 Service Unavailable error for {filename}. Retrying in {retry_delay} seconds.\")\n",
    "                        time.sleep(retry_delay)\n",
    "                        retries += 1\n",
    "                    else:\n",
    "                        print(f\"Error transcribing {filename}: {e}\")\n",
    "                        break\n",
    "                except Exception as e:\n",
    "                    print(f\"An error occurred while transcribing {filename}: {e}\")\n",
    "                    break"
   ]
  },
  {
   "cell_type": "code",
   "execution_count": 28,
   "metadata": {},
   "outputs": [
    {
     "name": "stdout",
     "output_type": "stream",
     "text": [
      "Skipping 14.MFY (VIGO IB, Ocaso, Naturgy, Mutua COORDIS 12122023) 1.mp3, transcription already exists.\n",
      "Transcription saved to /Users/nicolasmartinez-geijovila/code/IamjustNick/intelcia/audio_transcriptions/data/audio/mp3/01.MFY (GIJÓN EDP COORDIS 17112023).txt\n",
      "Transcription saved to /Users/nicolasmartinez-geijovila/code/IamjustNick/intelcia/audio_transcriptions/data/audio/mp3/14.MFY (VIGO IB, Ocaso, Naturgy, Mutua COORDIS 12122023) 2.txt\n",
      "Transcription saved to /Users/nicolasmartinez-geijovila/code/IamjustNick/intelcia/audio_transcriptions/data/audio/mp3/18.MFY (VIGO Ocaso, Mutua, Sabadell AGENTES 12122023) 1.txt\n",
      "Transcription saved to /Users/nicolasmartinez-geijovila/code/IamjustNick/intelcia/audio_transcriptions/data/audio/mp3/16.MFY (VIGO ING AGENTES 12122023) 2.txt\n",
      "Transcription saved to /Users/nicolasmartinez-geijovila/code/IamjustNick/intelcia/audio_transcriptions/data/audio/mp3/08.MFY (OM Iberdrola AGENTES 23112023).txt\n",
      "Transcription saved to /Users/nicolasmartinez-geijovila/code/IamjustNick/intelcia/audio_transcriptions/data/audio/mp3/17.MFY (VIGO ING COORDIS 12122023).txt\n",
      "Transcription saved to /Users/nicolasmartinez-geijovila/code/IamjustNick/intelcia/audio_transcriptions/data/audio/mp3/18.MFY (VIGO Ocaso, Mutua, Sabadell AGENTES 12122023) 2.txt\n",
      "Transcription saved to /Users/nicolasmartinez-geijovila/code/IamjustNick/intelcia/audio_transcriptions/data/audio/mp3/16.MFY (VIGO ING AGENTES 12122023) 1.txt\n",
      "Transcription saved to /Users/nicolasmartinez-geijovila/code/IamjustNick/intelcia/audio_transcriptions/data/audio/mp3/02.MFY (BCN DANONE Agentes 01122023) 2.txt\n",
      "Transcription saved to /Users/nicolasmartinez-geijovila/code/IamjustNick/intelcia/audio_transcriptions/data/audio/mp3/15.MFY (VIGO IbVentas + Naturgy Agentes 12122024) 2.txt\n",
      "Transcription saved to /Users/nicolasmartinez-geijovila/code/IamjustNick/intelcia/audio_transcriptions/data/audio/mp3/02.MFY (BCN DANONE Agentes 01122023) 1.txt\n",
      "Transcription saved to /Users/nicolasmartinez-geijovila/code/IamjustNick/intelcia/audio_transcriptions/data/audio/mp3/15.MFY (VIGO IbVentas + Naturgy Agentes 12122024) 1.txt\n",
      "Transcription saved to /Users/nicolasmartinez-geijovila/code/IamjustNick/intelcia/audio_transcriptions/data/audio/mp3/10.MFY (OM Santander coordinadores 21122023) 2.txt\n",
      "Transcription saved to /Users/nicolasmartinez-geijovila/code/IamjustNick/intelcia/audio_transcriptions/data/audio/mp3/11.MFY (OM ZARA AGENTES 22112023).txt\n",
      "Transcription saved to /Users/nicolasmartinez-geijovila/code/IamjustNick/intelcia/audio_transcriptions/data/audio/mp3/10.MFY (OM Santander coordinadores 21122023) 1.txt\n",
      "Transcription saved to /Users/nicolasmartinez-geijovila/code/IamjustNick/intelcia/audio_transcriptions/data/audio/mp3/09.MFY (OM SANTANDER AGENTES NUEVOS 21112023).txt\n",
      "Transcription saved to /Users/nicolasmartinez-geijovila/code/IamjustNick/intelcia/audio_transcriptions/data/audio/mp3/03.MFY (BCN VOLOTEA AGENTES 01122023) 1.txt\n",
      "Transcription saved to /Users/nicolasmartinez-geijovila/code/IamjustNick/intelcia/audio_transcriptions/data/audio/mp3/07.MFY (OM IBERDOLA AGENTES 22112023) 1.txt\n",
      "Transcription saved to /Users/nicolasmartinez-geijovila/code/IamjustNick/intelcia/audio_transcriptions/data/audio/mp3/03.MFY (BCN VOLOTEA AGENTES 01122023) 2.txt\n",
      "Transcription saved to /Users/nicolasmartinez-geijovila/code/IamjustNick/intelcia/audio_transcriptions/data/audio/mp3/07.MFY (OM IBERDOLA AGENTES 22112023) 2.txt\n",
      "Transcription saved to /Users/nicolasmartinez-geijovila/code/IamjustNick/intelcia/audio_transcriptions/data/audio/mp3/12.MFY (SANRO Carrefour agentes 23112023) 2.txt\n",
      "Transcription saved to /Users/nicolasmartinez-geijovila/code/IamjustNick/intelcia/audio_transcriptions/data/audio/mp3/05.MFY (EMU LEROY MERLIN AGENTES 21112023) 2.txt\n",
      "Transcription saved to /Users/nicolasmartinez-geijovila/code/IamjustNick/intelcia/audio_transcriptions/data/audio/mp3/06.MFY (OM IB SUPER+COORDI 22112023) 2.txt\n",
      "Transcription saved to /Users/nicolasmartinez-geijovila/code/IamjustNick/intelcia/audio_transcriptions/data/audio/mp3/12.MFY (SANRO Carrefour agentes 23112023) 1.txt\n",
      "Transcription saved to /Users/nicolasmartinez-geijovila/code/IamjustNick/intelcia/audio_transcriptions/data/audio/mp3/05.MFY (EMU LEROY MERLIN AGENTES 21112023) 1.txt\n",
      "Transcription saved to /Users/nicolasmartinez-geijovila/code/IamjustNick/intelcia/audio_transcriptions/data/audio/mp3/06.MFY (OM IB SUPER+COORDI 22112023) 1.txt\n",
      "Transcription saved to /Users/nicolasmartinez-geijovila/code/IamjustNick/intelcia/audio_transcriptions/data/audio/mp3/04.MFY (BCN Volotea coordis 01122023).txt\n"
     ]
    }
   ],
   "source": [
    "transcribe_all_mp3_in_directory(\"data/audio/mp3\")"
   ]
  },
  {
   "cell_type": "markdown",
   "metadata": {},
   "source": [
    "## The function below is just to concatenate the different text files into a single file"
   ]
  },
  {
   "cell_type": "code",
   "execution_count": 29,
   "metadata": {},
   "outputs": [
    {
     "name": "stdout",
     "output_type": "stream",
     "text": [
      "Knowledge base created at /Users/nicolasmartinez-geijovila/code/IamjustNick/intelcia/audio_transcriptions/data/audio/mp3/knowledge_base.txt\n"
     ]
    }
   ],
   "source": [
    "import os\n",
    "\n",
    "def create_knowledge_base_with_titles(directory):\n",
    "    \"\"\"\n",
    "    Reads all text files in the specified directory and combines their content into a file named 'knowledge_base.txt'.\n",
    "    Each document is preceded by its title (derived from the filename) and followed by two line spaces.\n",
    "\n",
    "    Parameters:\n",
    "    directory (str): The path to the directory containing text files.\n",
    "    \"\"\"\n",
    "    knowledge_base_path = os.path.join(directory, 'knowledge_base.txt')\n",
    "\n",
    "    with open(knowledge_base_path, 'w') as kb_file:\n",
    "        for filename in os.listdir(directory):\n",
    "            if filename.endswith('.txt') and filename != 'knowledge_base.txt':\n",
    "                file_path = os.path.join(directory, filename)\n",
    "                title = os.path.splitext(filename)[0]  # Remove the file extension to get the title\n",
    "\n",
    "                with open(file_path, 'r') as file:\n",
    "                    content = file.read()\n",
    "                    kb_file.write(f\"# {title}\\n\\n{content}\\n\\n\")  # Add title and content with spacing\n",
    "\n",
    "    print(f\"Knowledge base created at {knowledge_base_path}\")\n",
    "\n",
    "\n",
    "\n",
    "\n",
    "\n",
    "create_knowledge_base_with_titles(\"/Users/nicolasmartinez-geijovila/code/IamjustNick/intelcia/audio_transcriptions/data/audio/mp3\")\n"
   ]
  }
 ],
 "metadata": {
  "kernelspec": {
   "display_name": "wavewatcher",
   "language": "python",
   "name": "python3"
  },
  "language_info": {
   "codemirror_mode": {
    "name": "ipython",
    "version": 3
   },
   "file_extension": ".py",
   "mimetype": "text/x-python",
   "name": "python",
   "nbconvert_exporter": "python",
   "pygments_lexer": "ipython3",
   "version": "3.11.0"
  }
 },
 "nbformat": 4,
 "nbformat_minor": 2
}
